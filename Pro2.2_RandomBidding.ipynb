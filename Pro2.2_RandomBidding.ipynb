{
 "cells": [
  {
   "cell_type": "code",
   "execution_count": null,
   "metadata": {},
   "outputs": [],
   "source": [
    "import os\n",
    "import numpy\n",
    "import numpy as np\n",
    "import pandas as pd\n",
    "import random\n",
    "os.getcwd()"
   ]
  },
  {
   "cell_type": "code",
   "execution_count": 2,
   "metadata": {},
   "outputs": [
    {
     "name": "stdout",
     "output_type": "stream",
     "text": [
      "click                                                    0\n",
      "weekday                                                  4\n",
      "hour                                                    20\n",
      "bidid             bbcb813b6166538503d8b33a5602d7d72f6019dc\n",
      "userid            663169f66491c98c69f1f94a5c48fa34aa9fe06f\n",
      "useragent                                       windows_ie\n",
      "IP                                           211.144.203.*\n",
      "region                                                  79\n",
      "city                                                    79\n",
      "adexchange                                               1\n",
      "domain                                      trqRTvFRLpscFU\n",
      "url                       5ede68cc7542a34777fb8a1574856b6f\n",
      "urlid                                                  NaN\n",
      "slotid                         mm_10027070_2459574_9659312\n",
      "slotwidth                                              160\n",
      "slotheight                                             600\n",
      "slotvisibility                                           2\n",
      "slotformat                                               1\n",
      "slotprice                                                0\n",
      "creative                  cb7c76e7784031272e37af8e7e9b062c\n",
      "bidprice                                               300\n",
      "payprice                                                23\n",
      "keypage                   bebefa5efe83beee17a3d245e7c5085b\n",
      "advertiser                                            1458\n",
      "usertag                                        13866,10111\n",
      "Name: 0, dtype: object\n"
     ]
    }
   ],
   "source": [
    "path = '../validation.csv'\n",
    "validation = pd.read_csv(path)\n",
    "\n",
    "print(validation.loc[0])"
   ]
  },
  {
   "cell_type": "code",
   "execution_count": 3,
   "metadata": {},
   "outputs": [],
   "source": [
    "min_bid = 0\n",
    "max_bid = 301\n",
    "budge = 6250000\n",
    "record = np.zeros((int((max_bid-min_bid+2)*(max_bid-min_bid+1)/2),5),dtype = np.int)"
   ]
  },
  {
   "cell_type": "code",
   "execution_count": 5,
   "metadata": {},
   "outputs": [],
   "source": [
    "i = 0\n",
    "for low_bound in range(min_bid,max_bid,5):\n",
    "    for up_bound in range(low_bound,max_bid,5):\n",
    "        cost = 0\n",
    "        impression = 0\n",
    "        click = 0\n",
    "        for index in validation.index:  # for every coming up impression\n",
    "            if cost >= budge:\n",
    "                break\n",
    "            else:\n",
    "                bid = random.randint(low_bound,up_bound)  # generate a random bidding price\n",
    "                if bid >= validation['payprice'][index]:\n",
    "                    impression = impression+1\n",
    "                    cost = cost+validation['payprice'][index]\n",
    "                    if validation['click'][index] == 1:\n",
    "                        click = click+1\n",
    "        record[i] = [low_bound,up_bound,impression,click,cost]\n",
    "        i = i+1\n"
   ]
  },
  {
   "cell_type": "code",
   "execution_count": 6,
   "metadata": {},
   "outputs": [
    {
     "name": "stdout",
     "output_type": "stream",
     "text": [
      "       low_bound  up_bound  num_impression  num_click     cost\n",
      "0              0         0              82          0        0\n",
      "1              0         5            2021          0     7267\n",
      "2              0        10            6814          3    35584\n",
      "3              0        15           11551          3    78557\n",
      "4              0        20           16783          4   148698\n",
      "5              0        25           24487          4   281833\n",
      "6              0        30           30930          4   405255\n",
      "7              0        35           37560         12   552775\n",
      "8              0        40           43000         11   686269\n",
      "9              0        45           48373         14   832659\n",
      "10             0        50           53888         11  1003071\n",
      "11             0        55           60079         19  1233175\n",
      "12             0        60           66177         21  1483108\n",
      "13             0        65           72298         28  1732211\n",
      "14             0        70           78411         33  2007801\n",
      "15             0        75           84677         28  2329938\n",
      "16             0        80           90858         33  2672106\n",
      "17             0        85           97902         42  3073890\n",
      "18             0        90          104689         43  3476286\n",
      "19             0        95          110785         44  3858198\n",
      "20             0       100          116617         55  4221255\n",
      "21             0       105          122305         48  4586457\n",
      "22             0       110          127142         50  4914341\n",
      "23             0       115          131932         62  5240494\n",
      "24             0       120          136425         70  5541098\n",
      "25             0       125          140934         77  5870710\n",
      "26             0       130          145327         66  6178182\n",
      "27             0       135          144381         62  6250100\n",
      "28             0       140          141966         61  6250006\n",
      "29             0       145          139876         69  6250008\n",
      "...          ...       ...             ...        ...      ...\n",
      "45723          0         0               0          0        0\n",
      "45724          0         0               0          0        0\n",
      "45725          0         0               0          0        0\n",
      "45726          0         0               0          0        0\n",
      "45727          0         0               0          0        0\n",
      "45728          0         0               0          0        0\n",
      "45729          0         0               0          0        0\n",
      "45730          0         0               0          0        0\n",
      "45731          0         0               0          0        0\n",
      "45732          0         0               0          0        0\n",
      "45733          0         0               0          0        0\n",
      "45734          0         0               0          0        0\n",
      "45735          0         0               0          0        0\n",
      "45736          0         0               0          0        0\n",
      "45737          0         0               0          0        0\n",
      "45738          0         0               0          0        0\n",
      "45739          0         0               0          0        0\n",
      "45740          0         0               0          0        0\n",
      "45741          0         0               0          0        0\n",
      "45742          0         0               0          0        0\n",
      "45743          0         0               0          0        0\n",
      "45744          0         0               0          0        0\n",
      "45745          0         0               0          0        0\n",
      "45746          0         0               0          0        0\n",
      "45747          0         0               0          0        0\n",
      "45748          0         0               0          0        0\n",
      "45749          0         0               0          0        0\n",
      "45750          0         0               0          0        0\n",
      "45751          0         0               0          0        0\n",
      "45752          0         0               0          0        0\n",
      "\n",
      "[45753 rows x 5 columns]\n"
     ]
    }
   ],
   "source": [
    "pd_record = pd.DataFrame(record,columns=['low_bound','up_bound','num_impression','num_click','cost'])\n",
    "print(pd_record)\n",
    "pd_record.to_csv('../random_bidding_record.csv')"
   ]
  },
  {
   "cell_type": "code",
   "execution_count": 8,
   "metadata": {
    "scrolled": true
   },
   "outputs": [
    {
     "name": "stdout",
     "output_type": "stream",
     "text": [
      "40\n",
      "125\n",
      "80\n",
      "141297\n",
      "6250070\n",
      "0.0005661832876848057\n",
      "44233.564760752175\n",
      "78.125\n"
     ]
    }
   ],
   "source": [
    "low_bound = 40\n",
    "up_bound = 125\n",
    "budge = 6250000\n",
    "click = 80\n",
    "impression = 141297\n",
    "cost = 6250070\n",
    "\n",
    "# avg.cpm = budge/num_impre*1000\n",
    "# avg.cpc = cost per click = budge/1000/num_click\n",
    "ctr = click/impression\n",
    "avg_cpm = cost/impression*1000\n",
    "avg_cpc = budge/1000/click\n",
    "\n",
    "print(low_bound)\n",
    "print(up_bound)\n",
    "print(click)\n",
    "print(impression)\n",
    "print(cost)\n",
    "print(ctr)\n",
    "print(avg_cpm)\n",
    "print(avg_cpc)"
   ]
  }
 ],
 "metadata": {
  "kernelspec": {
   "display_name": "Python 3",
   "language": "python",
   "name": "python3"
  },
  "language_info": {
   "codemirror_mode": {
    "name": "ipython",
    "version": 3
   },
   "file_extension": ".py",
   "mimetype": "text/x-python",
   "name": "python",
   "nbconvert_exporter": "python",
   "pygments_lexer": "ipython3",
   "version": "3.7.2"
  }
 },
 "nbformat": 4,
 "nbformat_minor": 2
}
